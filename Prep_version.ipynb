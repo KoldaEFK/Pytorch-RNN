{
 "cells": [
  {
   "cell_type": "code",
   "execution_count": 51,
   "metadata": {},
   "outputs": [],
   "source": [
    "import pandas as pd\n",
    "import numpy as np\n",
    "from matplotlib import pyplot as plt\n",
    "import torch\n",
    "import torch.nn as nn\n",
    "from torch.utils.data import Dataset, DataLoader\n",
    "from sklearn.preprocessing import StandardScaler\n",
    "\n",
    "#device config\n",
    "device = torch.device('cuda' if torch.cuda.is_available() else 'cpu')"
   ]
  },
  {
   "cell_type": "code",
   "execution_count": 2,
   "metadata": {},
   "outputs": [],
   "source": [
    "df = pd.read_csv(\"train.csv\")\n",
    "df_train = df.drop(\"date_time\",1)[:5001]\n",
    "scaler = StandardScaler()\n",
    "scaler = scaler.fit(df_train)\n",
    "df_train = scaler.transform(df_train) #df_train is shape 5000,11 and dtype float64"
   ]
  },
  {
   "cell_type": "code",
   "execution_count": 3,
   "metadata": {},
   "outputs": [
    {
     "data": {
      "text/plain": [
       "(5001, 11)"
      ]
     },
     "execution_count": 3,
     "metadata": {},
     "output_type": "execute_result"
    }
   ],
   "source": [
    "df_train.shape"
   ]
  },
  {
   "cell_type": "code",
   "execution_count": 4,
   "metadata": {},
   "outputs": [
    {
     "data": {
      "text/plain": [
       "(300, 11)"
      ]
     },
     "execution_count": 4,
     "metadata": {},
     "output_type": "execute_result"
    }
   ],
   "source": [
    "df_train[0:300,:].shape"
   ]
  },
  {
   "cell_type": "code",
   "execution_count": 76,
   "metadata": {},
   "outputs": [],
   "source": [
    "#hyperparameters\n",
    "\n",
    "sequence_length = 50\n",
    "batch_size = 40\n",
    "learning_rate = 0.0001\n",
    "input_size = 11\n",
    "hidden_size = 32\n",
    "output_size = 3\n",
    "num_epochs = 20"
   ]
  },
  {
   "cell_type": "code",
   "execution_count": 77,
   "metadata": {},
   "outputs": [],
   "source": [
    "#RESHAPING the problem to supervised learning\n",
    "#X shape --> (length-sequence_length),sequence_length,features 4700,300,11\n",
    "#y shape --> )length-sequence_length),targets 4700,11\n",
    "\n",
    "class Train_Time_Series_Dataset(Dataset):\n",
    "    def __init__(self, complete_data,sequence_length):\n",
    "        X, y = list(), list()\n",
    "        for i in range(len(complete_data)):\n",
    "            end_idx = i + sequence_length\n",
    "            if end_idx > len(complete_data) - 1:\n",
    "                break\n",
    "                \n",
    "            #seq_x shape --> sequence_length, features (for time steps up to t-1)\n",
    "            #seq_y shape --> targets (for time step t)\n",
    "            seq_x, seq_y = complete_data[i:end_idx,:], complete_data[end_idx,8:]\n",
    "            X.append(seq_x)\n",
    "            y.append(seq_y)\n",
    "        X = np.asarray(X, dtype=np.float32)\n",
    "        y = np.asarray(y, dtype=np.float32)\n",
    "        \n",
    "        self.X = torch.from_numpy(X)\n",
    "        self.y = torch.from_numpy(y)\n",
    "        self.sequence_length = sequence_length\n",
    "        self.n_samples = X.shape[0]\n",
    "        \n",
    "    def __getitem__(self,index):\n",
    "        return self.X[index], self.y[index]\n",
    "        \n",
    "    def __len__(self):\n",
    "        return self.n_samples\n",
    "\n",
    "#Evaluation Dataset returns only features-X and NOT targets-y\n",
    "class Eval_Dataset(Dataset):\n",
    "    def __init__(self,sequence):\n",
    "        sequence = np.asarray(sequence, dtype=np.float32)\n",
    "        self.X = torch.from_numpy(sequence)\n",
    "        self.n_samples = sequence.shape[0]\n",
    "    \n",
    "    def __getitem__(self, index):\n",
    "        return self.X[index]\n",
    "\n",
    "    def __len__(self):\n",
    "        return self.n_samples\n",
    "\n",
    "dataset = Train_Time_Series_Dataset(df_train, sequence_length)\n",
    "train_loader = DataLoader(dataset=dataset,batch_size=batch_size,shuffle=True)\n",
    "eval_dataset = Eval_Dataset(df_train)  "
   ]
  },
  {
   "cell_type": "code",
   "execution_count": 78,
   "metadata": {},
   "outputs": [],
   "source": [
    "#testing\n",
    "dataiter = iter(train_loader)\n",
    "sample_data =dataiter.next()\n",
    "#s_features shape --> batch_size, sequence_length, features\n",
    "#s_targets shape --> batch_size, targets\n",
    "s_features, s_targets = sample_data\n",
    "s_features = s_features.to(device)\n",
    "#s_targets = s_targets.to(device)"
   ]
  },
  {
   "cell_type": "code",
   "execution_count": 79,
   "metadata": {},
   "outputs": [],
   "source": [
    "#DO NOT CONFUSE Hidden state with Weight matrix!\n",
    "\n",
    "class RNN(nn.Module):\n",
    "    def __init__(self,n_features,n_layers,hidden_size,output_size,sequence_length):\n",
    "        super(RNN,self).__init__()\n",
    "        self.sequence_length = sequence_length\n",
    "        self.n_layers = n_layers\n",
    "        self.hidden_size = hidden_size\n",
    "        self.rnn = nn.RNN(n_features, hidden_size,n_layers,batch_first=True) #expects input of shape --> batch_size, sequence_length, features\n",
    "        self.fc = nn.Linear(hidden_size, output_size)\n",
    "    \n",
    "    def forward(self,x):\n",
    "        h0 = torch.zeros(self.n_layers,x.size(0),self.hidden_size).to(device) #h0 shape --> n_layers, batch_size, hidden_size\n",
    "        out, _ = self.rnn(x, h0) #returns hidden states for all t\n",
    "        out = out[:,-1,:]\n",
    "        out = self.fc(out) #out shape --> batch_size, output_size\n",
    "        return out\n",
    "    \n",
    "    def predict(self,known_sequence, future_sequence):\n",
    "        model.eval()\n",
    "        #known_sequence shape --> \n",
    "        #x = complete_sequence[starting_point-sequence_length:starting_point] #x data\n",
    "        \n",
    "        known_sequence = known_sequence.to(device)\n",
    "        future_sequence = future_sequence.to(device)\n",
    "        \n",
    "        x = known_sequence[-self.sequence_length:]\n",
    "        x = torch.reshape(x,(1,-1,11)) #x shape --> batch_size, sequence_length, features = 1, 30, 11\n",
    "        \n",
    "        outputs = []\n",
    "        \n",
    "        for i in range(len(future_sequence)): #future_sequence shape --> future_sequence_length, features\n",
    "            h0 = torch.zeros(self.n_layers,1,self.hidden_size).to(device)\n",
    "            out, _ = self.rnn(x, h0)\n",
    "            out = out[:,-1,:] #out shape --> 1,hidden_size\n",
    "            out = self.fc(out) #out shape --> 1,3\n",
    "            out = out[0]\n",
    "            \n",
    "            outputs.append(out)\n",
    "            \n",
    "            new_x = future_sequence[i,:8]\n",
    "            \n",
    "            new_t = torch.cat((new_x,out),-1) #creating the new data point by concatenating the 8 known features with 3 predicted\n",
    "            x = torch.roll(x,-1,1) #shifting the elements in the tensor by -1 (the first element becomes last)\n",
    "            x[0,-1] = new_t #overwriting the last element\n",
    "    \n",
    "        return outputs\n",
    "    \n",
    "model = RNN(input_size,3,hidden_size,output_size,sequence_length).to(device)\n",
    "#loss and Optimizer\n",
    "criterion = nn.MSELoss()\n",
    "optimizer = torch.optim.Adam(model.parameters(), lr=learning_rate)"
   ]
  },
  {
   "cell_type": "code",
   "execution_count": 80,
   "metadata": {},
   "outputs": [
    {
     "name": "stdout",
     "output_type": "stream",
     "text": [
      "tensor([-0.0683,  0.1934, -0.2087], device='cuda:0', grad_fn=<SelectBackward>)\n",
      "tensor([-1.2352, -0.3742, -1.6134,  2.8256,  1.7554, -0.8828,  1.4914,  2.3536],\n",
      "       device='cuda:0')\n",
      "tensor([-1.2352, -0.3742, -1.6134,  2.8256,  1.7554, -0.8828,  1.4914,  2.3536,\n",
      "        -0.0683,  0.1934, -0.2087], device='cuda:0', grad_fn=<CatBackward>)\n"
     ]
    }
   ],
   "source": [
    "x=eval_dataset[470:500]\n",
    "new_x = x[0,:8].to(device)\n",
    "#x=torch.reshape(x,(1,-1,11)).to(device)\n",
    "#x=torch.roll(x,-1,1)\n",
    "#x[:,-1]=new_t\n",
    "outs = model(s_features)\n",
    "#outs = torch.reshape(outs,(1,40,3))\n",
    "out = outs[1]\n",
    "out.shape\n",
    "new_x.shape\n",
    "new_t = torch.cat((new_x,out),-1)\n",
    "print(out)\n",
    "print(new_x)\n",
    "print(new_t)"
   ]
  },
  {
   "cell_type": "code",
   "execution_count": 81,
   "metadata": {},
   "outputs": [
    {
     "name": "stdout",
     "output_type": "stream",
     "text": [
      "epoch 1 / 20, step 30 / 124, loss = 1.0029394626617432\n",
      "epoch 1 / 20, step 60 / 124, loss = 0.9326061606407166\n",
      "epoch 1 / 20, step 90 / 124, loss = 1.0138275623321533\n",
      "epoch 1 / 20, step 120 / 124, loss = 1.3498902320861816\n",
      "epoch 2 / 20, step 30 / 124, loss = 0.6564900279045105\n",
      "epoch 2 / 20, step 60 / 124, loss = 0.38668927550315857\n",
      "epoch 2 / 20, step 90 / 124, loss = 0.3062513470649719\n",
      "epoch 2 / 20, step 120 / 124, loss = 0.5222509503364563\n",
      "epoch 3 / 20, step 30 / 124, loss = 0.5333806872367859\n",
      "epoch 3 / 20, step 60 / 124, loss = 0.7038375735282898\n",
      "epoch 3 / 20, step 90 / 124, loss = 0.2677261531352997\n",
      "epoch 3 / 20, step 120 / 124, loss = 0.24601127207279205\n",
      "epoch 4 / 20, step 30 / 124, loss = 0.24771548807621002\n",
      "epoch 4 / 20, step 60 / 124, loss = 0.5751368403434753\n",
      "epoch 4 / 20, step 90 / 124, loss = 0.37224438786506653\n",
      "epoch 4 / 20, step 120 / 124, loss = 0.45664161443710327\n",
      "epoch 5 / 20, step 30 / 124, loss = 0.23442962765693665\n",
      "epoch 5 / 20, step 60 / 124, loss = 0.3739376962184906\n",
      "epoch 5 / 20, step 90 / 124, loss = 0.3343387246131897\n",
      "epoch 5 / 20, step 120 / 124, loss = 0.3086282014846802\n",
      "epoch 6 / 20, step 30 / 124, loss = 0.2733047306537628\n",
      "epoch 6 / 20, step 60 / 124, loss = 0.32151758670806885\n",
      "epoch 6 / 20, step 90 / 124, loss = 0.3800574839115143\n",
      "epoch 6 / 20, step 120 / 124, loss = 0.2809416949748993\n",
      "epoch 7 / 20, step 30 / 124, loss = 0.2534312307834625\n",
      "epoch 7 / 20, step 60 / 124, loss = 0.3028981685638428\n",
      "epoch 7 / 20, step 90 / 124, loss = 0.3993558883666992\n",
      "epoch 7 / 20, step 120 / 124, loss = 0.45745784044265747\n",
      "epoch 8 / 20, step 30 / 124, loss = 0.2308860868215561\n",
      "epoch 8 / 20, step 60 / 124, loss = 0.22420015931129456\n",
      "epoch 8 / 20, step 90 / 124, loss = 0.33796393871307373\n",
      "epoch 8 / 20, step 120 / 124, loss = 0.23212532699108124\n",
      "epoch 9 / 20, step 30 / 124, loss = 0.1905333548784256\n",
      "epoch 9 / 20, step 60 / 124, loss = 0.4826810956001282\n",
      "epoch 9 / 20, step 90 / 124, loss = 0.20319782197475433\n",
      "epoch 9 / 20, step 120 / 124, loss = 0.3554689586162567\n",
      "epoch 10 / 20, step 30 / 124, loss = 0.16147452592849731\n",
      "epoch 10 / 20, step 60 / 124, loss = 0.2975335717201233\n",
      "epoch 10 / 20, step 90 / 124, loss = 0.23750297725200653\n",
      "epoch 10 / 20, step 120 / 124, loss = 0.27819958329200745\n",
      "epoch 11 / 20, step 30 / 124, loss = 0.1374281644821167\n",
      "epoch 11 / 20, step 60 / 124, loss = 0.2731039226055145\n",
      "epoch 11 / 20, step 90 / 124, loss = 0.19926024973392487\n",
      "epoch 11 / 20, step 120 / 124, loss = 0.36039450764656067\n",
      "epoch 12 / 20, step 30 / 124, loss = 0.29249656200408936\n",
      "epoch 12 / 20, step 60 / 124, loss = 0.26022055745124817\n",
      "epoch 12 / 20, step 90 / 124, loss = 0.29708200693130493\n",
      "epoch 12 / 20, step 120 / 124, loss = 0.22265110909938812\n",
      "epoch 13 / 20, step 30 / 124, loss = 0.497183620929718\n",
      "epoch 13 / 20, step 60 / 124, loss = 0.14545342326164246\n",
      "epoch 13 / 20, step 90 / 124, loss = 0.22341616451740265\n",
      "epoch 13 / 20, step 120 / 124, loss = 0.2226775884628296\n",
      "epoch 14 / 20, step 30 / 124, loss = 0.27931347489356995\n",
      "epoch 14 / 20, step 60 / 124, loss = 0.18874941766262054\n",
      "epoch 14 / 20, step 90 / 124, loss = 0.18603335320949554\n",
      "epoch 14 / 20, step 120 / 124, loss = 0.24276331067085266\n",
      "epoch 15 / 20, step 30 / 124, loss = 0.20229272544384003\n",
      "epoch 15 / 20, step 60 / 124, loss = 0.14902977645397186\n",
      "epoch 15 / 20, step 90 / 124, loss = 0.30477944016456604\n",
      "epoch 15 / 20, step 120 / 124, loss = 0.20088063180446625\n",
      "epoch 16 / 20, step 30 / 124, loss = 0.16259019076824188\n",
      "epoch 16 / 20, step 60 / 124, loss = 0.19553104043006897\n",
      "epoch 16 / 20, step 90 / 124, loss = 0.22977177798748016\n",
      "epoch 16 / 20, step 120 / 124, loss = 0.4504697620868683\n",
      "epoch 17 / 20, step 30 / 124, loss = 0.13337717950344086\n",
      "epoch 17 / 20, step 60 / 124, loss = 0.1778402030467987\n",
      "epoch 17 / 20, step 90 / 124, loss = 0.2691715359687805\n",
      "epoch 17 / 20, step 120 / 124, loss = 0.41571491956710815\n",
      "epoch 18 / 20, step 30 / 124, loss = 0.12089473754167557\n",
      "epoch 18 / 20, step 60 / 124, loss = 0.2625806927680969\n",
      "epoch 18 / 20, step 90 / 124, loss = 0.2575032711029053\n",
      "epoch 18 / 20, step 120 / 124, loss = 0.23388122022151947\n",
      "epoch 19 / 20, step 30 / 124, loss = 0.16845770180225372\n",
      "epoch 19 / 20, step 60 / 124, loss = 0.1309707760810852\n",
      "epoch 19 / 20, step 90 / 124, loss = 0.3127402663230896\n",
      "epoch 19 / 20, step 120 / 124, loss = 0.21184727549552917\n",
      "epoch 20 / 20, step 30 / 124, loss = 0.10603733360767365\n",
      "epoch 20 / 20, step 60 / 124, loss = 0.1046500876545906\n",
      "epoch 20 / 20, step 90 / 124, loss = 0.16901497542858124\n",
      "epoch 20 / 20, step 120 / 124, loss = 0.12327876687049866\n",
      "torch.Size([40, 50, 11])\n"
     ]
    }
   ],
   "source": [
    "#training loop\n",
    "n_total_steps = len(train_loader)\n",
    "\n",
    "running_loss = 0.0\n",
    "running_correct = 0\n",
    "\n",
    "#TRAIN\n",
    "for epoch in range(num_epochs):\n",
    "    for i, (features,targets) in enumerate(train_loader): #enumerate DataLoader\n",
    "        #features shape --> batch_size, sequence_length, features\n",
    "        #targets shape --> batch_size, targets\n",
    "        features = features.to(device)\n",
    "        targets = targets.to(device)\n",
    "        \n",
    "        #forward\n",
    "        outputs = model(features)\n",
    "        loss = criterion(outputs, targets)\n",
    "\n",
    "        #backward\n",
    "        optimizer.zero_grad()\n",
    "        loss.backward()\n",
    "        optimizer.step()\n",
    "\n",
    "        running_loss+= loss.item() #item returns a number\n",
    "\n",
    "        if (i+1) % 30 == 0:\n",
    "            print(f'epoch {epoch+1} / {num_epochs}, step {i+1} / {n_total_steps}, loss = {loss.item()}')\n",
    "            running_loss = 0.0\n",
    "\n",
    "\n",
    "#torch.save(model.state_dict(),\"mymodel.pth\")\n",
    "\n",
    "s_features = s_features.to(device)\n",
    "output = model(s_features)\n",
    "print(s_features.shape)"
   ]
  },
  {
   "cell_type": "code",
   "execution_count": 83,
   "metadata": {},
   "outputs": [
    {
     "name": "stdout",
     "output_type": "stream",
     "text": [
      "tensor([[ 0.6611,  0.1662,  0.2620],\n",
      "        [ 0.9855,  0.4692,  0.5338],\n",
      "        [ 0.3366,  0.0796,  0.0751],\n",
      "        [ 0.4177,  0.3249, -0.1523],\n",
      "        [ 0.8233,  0.3537, -0.2259]])\n"
     ]
    },
    {
     "data": {
      "image/png": "[encoded data removed]",
      "text/plain": [
       "<Figure size 432x288 with 1 Axes>"
      ]
     },
     "metadata": {
      "needs_background": "light"
     },
     "output_type": "display_data"
    }
   ],
   "source": [
    "#test\n",
    "test_outputs = torch.stack(model.predict(eval_dataset[400:500],eval_dataset[500:550])).cpu().detach().numpy()\n",
    "evv = eval_dataset[500:550,8:]\n",
    "print(evv[:5])\n",
    "#.cpu().detach().numpy()\n",
    "plt.plot(test_outputs)\n",
    "plt.plot(evv)\n",
    "plt.show()"
   ]
  },
  {
   "cell_type": "code",
   "execution_count": 42,
   "metadata": {},
   "outputs": [
    {
     "data": {
      "text/plain": [
       "tensor([-1.0340,  1.0353, -0.4017,  1.4142,  0.3736, -0.5223,  0.8259,  0.5027])"
      ]
     },
     "execution_count": 42,
     "metadata": {},
     "output_type": "execute_result"
    }
   ],
   "source": [
    "g= eval_dataset[500:550]\n",
    "g[1,:8]"
   ]
  },
  {
   "cell_type": "code",
   "execution_count": null,
   "metadata": {},
   "outputs": [],
   "source": []
  }
 ],
 "metadata": {
  "interpreter": {
   "hash": "920e380cd58ff3f8c2b75bf9efcc96d0d308e621547ab29c8c584eb095f03f01"
  },
  "kernelspec": {
   "display_name": "Python 3",
   "language": "python",
   "name": "python3"
  },
  "language_info": {
   "codemirror_mode": {
    "name": "ipython",
    "version": 3
   },
   "file_extension": ".py",
   "mimetype": "text/x-python",
   "name": "python",
   "nbconvert_exporter": "python",
   "pygments_lexer": "ipython3",
   "version": "3.8.3"
  }
 },
 "nbformat": 4,
 "nbformat_minor": 4
}
